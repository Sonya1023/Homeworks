{
 "cells": [
  {
   "cell_type": "code",
   "execution_count": 2,
   "id": "c539339f",
   "metadata": {},
   "outputs": [],
   "source": [
    "import random\n",
    "import numpy as np\n",
    "import pandas as pd\n",
    "import seaborn as sns\n",
    "import matplotlib.pyplot as plt"
   ]
  },
  {
   "cell_type": "code",
   "execution_count": 3,
   "id": "9b7b33df",
   "metadata": {},
   "outputs": [],
   "source": [
    "y = np.random.normal(size=30).reshape(30, 1)\n",
    "x = np.array(range(1, 31)).reshape(30, 1)\n",
    "coord = np.concatenate((x, y), axis=1)"
   ]
  },
  {
   "cell_type": "code",
   "execution_count": 4,
   "id": "2b029381",
   "metadata": {},
   "outputs": [
    {
     "data": {
      "text/plain": [
       "<AxesSubplot:>"
      ]
     },
     "execution_count": 4,
     "metadata": {},
     "output_type": "execute_result"
    },
    {
     "data": {
      "image/png": "[encoded data removed]",
      "text/plain": [
       "<Figure size 432x288 with 1 Axes>"
      ]
     },
     "metadata": {
      "needs_background": "light"
     },
     "output_type": "display_data"
    }
   ],
   "source": [
    "sns.scatterplot(x=x.reshape(1, 30)[0], y=y.reshape(1, 30)[0])"
   ]
  },
  {
   "cell_type": "code",
   "execution_count": 5,
   "id": "616b9783",
   "metadata": {},
   "outputs": [
    {
     "name": "stdout",
     "output_type": "stream",
     "text": [
      "Число кластеров: 3\n"
     ]
    }
   ],
   "source": [
    "kl = int(input('Число кластеров: '))"
   ]
  },
  {
   "cell_type": "code",
   "execution_count": null,
   "id": "364f5080",
   "metadata": {
    "scrolled": true
   },
   "outputs": [],
   "source": [
    "c = []\n",
    "for i in range(kl):\n",
    "    c.append(coord[random.randrange(coord.shape[0])])\n",
    "\n",
    "while True:\n",
    "    cluster = []\n",
    "    for i in range(coord.shape[0]):\n",
    "        d = {}\n",
    "        for j in range(kl):\n",
    "            a = ((coord[i][0] - c[j][0]) ** 2 + (coord[i][1] - c[j][1])) ** 0.5\n",
    "            d[a] = j\n",
    "            h = d[min(d)]\n",
    "        cluster.append(c)\n",
    "    df = pd.DataFrame({'x': coord[:, 0], 'y': coord[:, 1], 'cluster': cluster})\n",
    "    \n",
    "    new = []\n",
    "    for i in range(kl):\n",
    "        data = df[df['cluster'] == i]\n",
    "        new.append(np.array([data['x'].mean(), data['y'].mean()]))\n",
    "    \n",
    "    new_cluster = []\n",
    "    for i in range(coord.shape[0]):\n",
    "        d = {}\n",
    "        for j in range(kl):\n",
    "            a = ((coord[i][0] - new[j][0]) ** 2 + (coord[i][1] - new[j][1])) ** 0.5\n",
    "            d[a] = j\n",
    "            c = d[min(d)]\n",
    "        new.append(c)\n",
    "    \n",
    "    if cluster == new_cluster:\n",
    "        break\n",
    "    \n",
    "    c = new"
   ]
  },
  {
   "cell_type": "code",
   "execution_count": null,
   "id": "1e0d5ee5",
   "metadata": {},
   "outputs": [],
   "source": [
    "df_2 = pd.DataFrame({'x': coord[:, 0], 'y': coord[:, 1], 'cluster': cluster})\n",
    "df_2"
   ]
  },
  {
   "cell_type": "code",
   "execution_count": null,
   "id": "dbc7fa22",
   "metadata": {},
   "outputs": [],
   "source": [
    "colors = ['red', 'yellow', 'green']"
   ]
  },
  {
   "cell_type": "code",
   "execution_count": null,
   "id": "6727cd38",
   "metadata": {},
   "outputs": [],
   "source": [
    "for i in range(k):\n",
    "    plt.scatter(data=df_2[df_2['cluster'] == i], x='x', y='y', color=colors[i])"
   ]
  },
  {
   "cell_type": "code",
   "execution_count": null,
   "id": "3a3558ac",
   "metadata": {},
   "outputs": [],
   "source": []
  }
 ],
 "metadata": {
  "kernelspec": {
   "display_name": "Python 3 (ipykernel)",
   "language": "python",
   "name": "python3"
  },
  "language_info": {
   "codemirror_mode": {
    "name": "ipython",
    "version": 3
   },
   "file_extension": ".py",
   "mimetype": "text/x-python",
   "name": "python",
   "nbconvert_exporter": "python",
   "pygments_lexer": "ipython3",
   "version": "3.9.12"
  }
 },
 "nbformat": 4,
 "nbformat_minor": 5
}
